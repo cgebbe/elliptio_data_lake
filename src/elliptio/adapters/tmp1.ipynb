{
 "cells": [
  {
   "cell_type": "code",
   "execution_count": 16,
   "metadata": {},
   "outputs": [
    {
     "name": "stdout",
     "output_type": "stream",
     "text": [
      "argcomplete\n",
      "jedi\n",
      "parso\n",
      "elliptio\n",
      "python-dateutil\n",
      "executing\n",
      "zipp\n",
      "mypy\n",
      "backcall\n",
      "charset-normalizer\n",
      "tomli\n",
      "matplotlib-inline\n",
      "cfgv\n",
      "MarkupSafe\n",
      "nest-asyncio\n",
      "jupyter_core\n",
      "mypy-extensions\n",
      "pickleshare\n",
      "debugpy\n",
      "ptyprocess\n",
      "tzdata\n",
      "pluggy\n",
      "tornado\n",
      "nodeenv\n",
      "importlib-metadata\n",
      "setuptools\n",
      "ipython\n",
      "jupyter_client\n",
      "fsspec\n",
      "decorator\n",
      "PyYAML\n",
      "pure-eval\n",
      "pyzmq\n",
      "identify\n",
      "greenlet\n",
      "packaging\n",
      "SQLAlchemy\n",
      "exceptiongroup\n",
      "stack-data\n",
      "types-pytz\n",
      "colorama\n",
      "comm\n",
      "psutil\n",
      "Pygments\n",
      "iniconfig\n",
      "distlib\n",
      "termcolor\n",
      "ipykernel\n",
      "commitizen\n",
      "six\n",
      "prompt-toolkit\n",
      "numpy\n",
      "pexpect\n",
      "decli\n",
      "virtualenv\n",
      "tomlkit\n",
      "platformdirs\n",
      "pandas-stubs\n",
      "pytest\n",
      "pytz\n",
      "traitlets\n",
      "typing_extensions\n",
      "pandas\n",
      "questionary\n",
      "wcwidth\n",
      "Jinja2\n",
      "asttokens\n",
      "filelock\n",
      "pre-commit\n",
      "elliptio\n"
     ]
    }
   ],
   "source": [
    "from importlib import metadata\n",
    "\n",
    "for d in metadata.distributions():\n",
    "    print(d.metadata[\"name\"])"
   ]
  }
 ],
 "metadata": {
  "kernelspec": {
   "display_name": ".venv",
   "language": "python",
   "name": "python3"
  },
  "language_info": {
   "codemirror_mode": {
    "name": "ipython",
    "version": 3
   },
   "file_extension": ".py",
   "mimetype": "text/x-python",
   "name": "python",
   "nbconvert_exporter": "python",
   "pygments_lexer": "ipython3",
   "version": "3.8.0"
  }
 },
 "nbformat": 4,
 "nbformat_minor": 2
}
